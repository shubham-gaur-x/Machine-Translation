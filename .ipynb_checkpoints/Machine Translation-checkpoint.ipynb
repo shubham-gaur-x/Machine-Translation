{
 "cells": [
  {
   "cell_type": "markdown",
   "id": "7320470b",
   "metadata": {},
   "source": [
    "## Machine Translation\n",
    "This notebook performs machine translation using a custom Transformer model tailored to an English-to-Hindi translation dataset. We'll also compare the performance of this custom model with a pre-trained model using BLEU metrics."
   ]
  },
  {
   "cell_type": "code",
   "execution_count": 1,
   "id": "2f7b40ea",
   "metadata": {},
   "outputs": [
    {
     "name": "stderr",
     "output_type": "stream",
     "text": [
      "/Users/shubhamgaur/anaconda3/lib/python3.11/site-packages/tqdm/auto.py:21: TqdmWarning: IProgress not found. Please update jupyter and ipywidgets. See https://ipywidgets.readthedocs.io/en/stable/user_install.html\n",
      "  from .autonotebook import tqdm as notebook_tqdm\n"
     ]
    }
   ],
   "source": [
    "import torch\n",
    "import torch.nn as nn\n",
    "from torch.optim import Adam\n",
    "from torch.optim.lr_scheduler import StepLR\n",
    "import math\n",
    "import pandas as pd\n",
    "from transformers import AutoTokenizer, DataCollatorForSeq2Seq\n",
    "from torch.utils.data import DataLoader\n",
    "from datasets import Dataset\n",
    "\n",
    "\n",
    "import warnings\n",
    "warnings.filterwarnings(\"ignore\")"
   ]
  },
  {
   "cell_type": "markdown",
   "id": "3f11ad13",
   "metadata": {},
   "source": [
    "__Purpose:__ Imports necessary libraries for model construction, data processing, and training.\n",
    "\n",
    "__Details:__ Includes libraries for PyTorch operations (torch and torch.nn), optimizers (Adam), learning rate scheduling (StepLR), and utilities for tokenization and dataset management."
   ]
  },
  {
   "cell_type": "markdown",
   "id": "82aad91e",
   "metadata": {},
   "source": [
    "### I. Dataset Acquisition\n",
    "\n",
    "We selected a suitable English-to-Hindi translation dataset from http://www.manythings.org/anki/ for the machine translation task."
   ]
  },
  {
   "cell_type": "code",
   "execution_count": 2,
   "id": "841db349",
   "metadata": {},
   "outputs": [],
   "source": [
    "# Load and prepare the dataset\n",
    "file_path = '/Users/shubhamgaur/Desktop/NU/Sem3/NLP/Assignment4/hin-eng/hin.txt'  # Update this to your actual file path\n",
    "data = []\n",
    "with open(file_path, 'r', encoding='utf-8') as f:\n",
    "    for line in f:\n",
    "        parts = line.strip().split('\\t')\n",
    "        if len(parts) >= 2:\n",
    "            data.append({\"english\": str(parts[0]), \"hindi\": str(parts[1])})\n",
    "\n",
    "df = pd.DataFrame(data)"
   ]
  },
  {
   "cell_type": "markdown",
   "id": "c17b7da0",
   "metadata": {},
   "source": [
    "__Purpose:__ Loads the English-Hindi dataset from a specified file path and creates a DataFrame.\n",
    "\n",
    "__Details:__ Parses each line into English and Hindi parts, stores them as dictionary entries, and creates a DataFrame for structured data handling."
   ]
  },
  {
   "cell_type": "code",
   "execution_count": 3,
   "id": "d8649d40",
   "metadata": {},
   "outputs": [
    {
     "name": "stdout",
     "output_type": "stream",
     "text": [
      "<class 'pandas.core.frame.DataFrame'>\n",
      "RangeIndex: 3061 entries, 0 to 3060\n",
      "Data columns (total 2 columns):\n",
      " #   Column   Non-Null Count  Dtype \n",
      "---  ------   --------------  ----- \n",
      " 0   english  3061 non-null   object\n",
      " 1   hindi    3061 non-null   object\n",
      "dtypes: object(2)\n",
      "memory usage: 48.0+ KB\n"
     ]
    },
    {
     "data": {
      "text/html": [
       "<div>\n",
       "<style scoped>\n",
       "    .dataframe tbody tr th:only-of-type {\n",
       "        vertical-align: middle;\n",
       "    }\n",
       "\n",
       "    .dataframe tbody tr th {\n",
       "        vertical-align: top;\n",
       "    }\n",
       "\n",
       "    .dataframe thead th {\n",
       "        text-align: right;\n",
       "    }\n",
       "</style>\n",
       "<table border=\"1\" class=\"dataframe\">\n",
       "  <thead>\n",
       "    <tr style=\"text-align: right;\">\n",
       "      <th></th>\n",
       "      <th>english</th>\n",
       "      <th>hindi</th>\n",
       "    </tr>\n",
       "  </thead>\n",
       "  <tbody>\n",
       "    <tr>\n",
       "      <th>3056</th>\n",
       "      <td>If you go to that supermarket, you can buy mos...</td>\n",
       "      <td>उस सूपरमार्केट में तुम लगभग कोई भी रोजाने में ...</td>\n",
       "    </tr>\n",
       "    <tr>\n",
       "      <th>3057</th>\n",
       "      <td>The passengers who were injured in the acciden...</td>\n",
       "      <td>जिन यात्रियों को दुर्घटना मे चोट आई थी उन्हे अ...</td>\n",
       "    </tr>\n",
       "    <tr>\n",
       "      <th>3058</th>\n",
       "      <td>Democracy is the worst form of government, exc...</td>\n",
       "      <td>लोकतंत्र सरकार का सबसे घिनौना रूप है, अगर बाकी...</td>\n",
       "    </tr>\n",
       "    <tr>\n",
       "      <th>3059</th>\n",
       "      <td>If my boy had not been killed in the traffic a...</td>\n",
       "      <td>अगर मेरा बेटा ट्रेफ़िक हादसे में नहीं मारा गया...</td>\n",
       "    </tr>\n",
       "    <tr>\n",
       "      <th>3060</th>\n",
       "      <td>When I was a kid, touching bugs didn't bother ...</td>\n",
       "      <td>जब मैं बच्चा था, मुझे कीड़ों को छूने से कोई पर...</td>\n",
       "    </tr>\n",
       "  </tbody>\n",
       "</table>\n",
       "</div>"
      ],
      "text/plain": [
       "                                                english  \\\n",
       "3056  If you go to that supermarket, you can buy mos...   \n",
       "3057  The passengers who were injured in the acciden...   \n",
       "3058  Democracy is the worst form of government, exc...   \n",
       "3059  If my boy had not been killed in the traffic a...   \n",
       "3060  When I was a kid, touching bugs didn't bother ...   \n",
       "\n",
       "                                                  hindi  \n",
       "3056  उस सूपरमार्केट में तुम लगभग कोई भी रोजाने में ...  \n",
       "3057  जिन यात्रियों को दुर्घटना मे चोट आई थी उन्हे अ...  \n",
       "3058  लोकतंत्र सरकार का सबसे घिनौना रूप है, अगर बाकी...  \n",
       "3059  अगर मेरा बेटा ट्रेफ़िक हादसे में नहीं मारा गया...  \n",
       "3060  जब मैं बच्चा था, मुझे कीड़ों को छूने से कोई पर...  "
      ]
     },
     "execution_count": 3,
     "metadata": {},
     "output_type": "execute_result"
    }
   ],
   "source": [
    "df.info()\n",
    "df.tail()"
   ]
  },
  {
   "cell_type": "markdown",
   "id": "2248b657",
   "metadata": {},
   "source": [
    "__Purpose:__ Displays dataset information and previews the last few rows.\n",
    "\n",
    "__Details:__ df.info() provides metadata, and df.tail() shows sample data entries, useful for verifying dataset structure."
   ]
  },
  {
   "cell_type": "markdown",
   "id": "20a43b1f",
   "metadata": {},
   "source": [
    "#### Business Insight: \n",
    "The English-to-Hindi dataset selected for this task provides a foundation for businesses targeting the Indian market. With 3,061 sentence pairs, this dataset is relatively small, which limits the effectiveness of a custom-built model due to insufficient diversity in language patterns. For businesses aiming to deliver high-quality machine translation services, especially in regions with complex languages like Hindi, sourcing a more comprehensive dataset would be essential. This highlights the need for investing in richer datasets to ensure more accurate and nuanced translations, which can improve customer engagement and localization quality."
   ]
  },
  {
   "cell_type": "markdown",
   "id": "db794d6a",
   "metadata": {},
   "source": [
    "### I.1 Split data into Train and Test sets"
   ]
  },
  {
   "cell_type": "code",
   "execution_count": 6,
   "id": "2f348f0e",
   "metadata": {},
   "outputs": [],
   "source": [
    "from sklearn.model_selection import train_test_split\n",
    "from datasets import Dataset\n",
    "import torch\n",
    "from torch.utils.data import DataLoader\n",
    "\n",
    "# Assume df is the original DataFrame containing the full dataset\n",
    "df_train, df_test = train_test_split(df, test_size=0.2, random_state=42)  # 80-20 split\n",
    "\n",
    "# Convert DataFrames to Dataset format\n",
    "train_dataset = Dataset.from_pandas(df_train)\n",
    "test_dataset = Dataset.from_pandas(df_test)"
   ]
  },
  {
   "cell_type": "markdown",
   "id": "e8b0c077",
   "metadata": {},
   "source": [
    "__Purpose:__ Splits data into training and testing sets (80-20 split).\n",
    "\n",
    "__Details:__ train_test_split ensures random selection with reproducibility (random_state=42)."
   ]
  },
  {
   "cell_type": "markdown",
   "id": "ec20865f",
   "metadata": {},
   "source": [
    "#### Business Insight: \n",
    "The 80-20 train-test split used here ensures that the model is trained on a representative sample while also being rigorously evaluated. For businesses, this balanced split means that the model’s performance metrics are reliable and that its translations are likely to generalize well to real-world scenarios. This approach supports quality control, which is critical for maintaining brand trust and satisfaction when delivering translations in customer-facing applications, such as support chatbots or localized websites."
   ]
  },
  {
   "cell_type": "markdown",
   "id": "d24b4583",
   "metadata": {},
   "source": [
    "### I.2. Tokenize Data"
   ]
  },
  {
   "cell_type": "code",
   "execution_count": 7,
   "id": "5e5687bb",
   "metadata": {},
   "outputs": [],
   "source": [
    "# Initialize the tokenizer\n",
    "model_checkpoint = \"Helsinki-NLP/opus-mt-en-hi\"\n",
    "tokenizer = AutoTokenizer.from_pretrained(model_checkpoint)"
   ]
  },
  {
   "cell_type": "markdown",
   "id": "6c5a82fd",
   "metadata": {},
   "source": [
    "__Purpose:__ Initializes a tokenizer for the English-Hindi translation task.\n",
    "\n",
    "__Details:__ Uses the Helsinki-NLP/opus-mt-en-hi model from Hugging Face for consistent tokenization of English and Hindi texts."
   ]
  },
  {
   "cell_type": "code",
   "execution_count": null,
   "id": "be72cdb9",
   "metadata": {},
   "outputs": [],
   "source": [
    "# Define a function to tokenize the inputs and outputs\n",
    "def preprocess_function(examples):\n",
    "    inputs = [str(text) for text in examples[\"english\"]]\n",
    "    targets = [str(text) for text in examples[\"hindi\"]]\n",
    "    \n",
    "    # Tokenize and pad inputs and labels\n",
    "    model_inputs = tokenizer(inputs, max_length=128, truncation=True, padding=\"max_length\")\n",
    "    labels = tokenizer(targets, max_length=128, truncation=True, padding=\"max_length\")[\"input_ids\"]\n",
    "    \n",
    "    # Replace pad token in labels with -100 for loss masking\n",
    "    labels = [[label if label != tokenizer.pad_token_id else -100 for label in label_seq] for label_seq in labels]\n",
    "    model_inputs[\"labels\"] = labels\n",
    "    return model_inputs\n",
    "\n",
    "# Apply tokenization to the datasets\n",
    "tokenized_train_dataset = train_dataset.map(preprocess_function, batched=True)\n",
    "tokenized_test_dataset = test_dataset.map(preprocess_function, batched=True)"
   ]
  },
  {
   "cell_type": "markdown",
   "id": "16405aa8",
   "metadata": {},
   "source": [
    "__Purpose:__ Tokenizes English-Hindi sentence pairs and masks padding tokens in target labels.\n",
    "\n",
    "__Details:__ Converts texts into token IDs, pads to a max length of 128, and masks padding tokens by setting them to -100 (ignored during loss computation)."
   ]
  },
  {
   "cell_type": "code",
   "execution_count": 9,
   "id": "c8f21afe",
   "metadata": {
    "scrolled": true
   },
   "outputs": [
    {
     "name": "stderr",
     "output_type": "stream",
     "text": [
      "                                                                                "
     ]
    },
    {
     "name": "stdout",
     "output_type": "stream",
     "text": [
      "Training batch: {'input_ids': torch.Size([16, 128]), 'attention_mask': torch.Size([16, 128]), 'labels': torch.Size([16, 128])}\n",
      "Test batch: {'input_ids': torch.Size([16, 128]), 'attention_mask': torch.Size([16, 128]), 'labels': torch.Size([16, 128])}\n"
     ]
    },
    {
     "name": "stderr",
     "output_type": "stream",
     "text": [
      "\r"
     ]
    }
   ],
   "source": [
    "# Custom collator to ensure consistent tensor creation\n",
    "class CustomDataCollator:\n",
    "    def __init__(self, tokenizer):\n",
    "        self.tokenizer = tokenizer\n",
    "\n",
    "    def __call__(self, features):\n",
    "        batch = {}\n",
    "        # Only process tensor-compatible fields\n",
    "        tensor_fields = [\"input_ids\", \"attention_mask\", \"labels\"]\n",
    "        for key in tensor_fields:\n",
    "            values = [torch.tensor(f[key]) for f in features]\n",
    "            batch[key] = torch.stack(values)\n",
    "        return batch\n",
    "\n",
    "data_collator = CustomDataCollator(tokenizer)\n",
    "\n",
    "# Create DataLoaders for train and test data\n",
    "batch_size = 16\n",
    "train_dataloader = DataLoader(tokenized_train_dataset, batch_size=batch_size, collate_fn=data_collator)\n",
    "test_dataloader = DataLoader(tokenized_test_dataset, batch_size=batch_size, collate_fn=data_collator)\n",
    "\n",
    "# Display a sample batch from the training data to verify tensor shapes\n",
    "for batch in train_dataloader:\n",
    "    print(\"Training batch:\", {k: v.shape for k, v in batch.items()})\n",
    "    break\n",
    "\n",
    "# Display a sample batch from the test data to verify tensor shapes\n",
    "for batch in test_dataloader:\n",
    "    print(\"Test batch:\", {k: v.shape for k, v in batch.items()})\n",
    "    break"
   ]
  },
  {
   "cell_type": "markdown",
   "id": "21718366",
   "metadata": {},
   "source": [
    "__Purpose:__ Ensures that each batch is formatted consistently for model input.\n",
    "\n",
    "__Details:__ Custom collator aligns input_ids, attention_mask, and labels into consistent tensor batches."
   ]
  },
  {
   "cell_type": "markdown",
   "id": "92a874c3",
   "metadata": {},
   "source": [
    "#### Business Insight: \n",
    "Tokenizing and padding sentences to a max length of 128 tokens provides a standardized input for model training. For businesses, this step ensures that translations are consistent and can handle variable-length inputs, which is crucial for applications that deal with diverse sentence structures, such as e-commerce product descriptions or user-generated content. Consistent tokenization also facilitates smoother model performance, supporting scalability for business applications that process large volumes of text."
   ]
  },
  {
   "cell_type": "markdown",
   "id": "10a3b980",
   "metadata": {},
   "source": [
    "### II. Custom Transformer Implementation"
   ]
  },
  {
   "cell_type": "markdown",
   "id": "3c1bbad7",
   "metadata": {},
   "source": [
    "#### Step 1: Define the Transformer Architecture\n",
    "\n",
    "The Transformer architecture consists of:\n",
    "\n",
    "__Encoder:__ Processes the source language (English) input.\n",
    "\n",
    "__Decoder:__ Generates the target language (Hindi) output, conditioned on the encoder's representation and previous tokens.\n"
   ]
  },
  {
   "cell_type": "markdown",
   "id": "cbe98817",
   "metadata": {},
   "source": [
    "#### Step 2: Implement the Model in PyTorch\n",
    "Here’s an implementation of a custom transformer-based machine translation model:"
   ]
  },
  {
   "cell_type": "code",
   "execution_count": null,
   "id": "e2eae495",
   "metadata": {},
   "outputs": [],
   "source": [
    "from sklearn.model_selection import train_test_split\n",
    "from torch.utils.data import DataLoader\n",
    "from datasets import Dataset\n",
    "import torch\n",
    "import torch.nn as nn\n",
    "\n",
    "# Define the Transformer model\n",
    "class TransformerModel(nn.Module):\n",
    "    def __init__(self, src_vocab_size, tgt_vocab_size, d_model=512, nhead=8, num_encoder_layers=6, num_decoder_layers=6, dim_feedforward=2048):\n",
    "        super(TransformerModel, self).__init__()\n",
    "        self.src_embedding = nn.Embedding(src_vocab_size, d_model, padding_idx=0)\n",
    "        self.tgt_embedding = nn.Embedding(tgt_vocab_size, d_model, padding_idx=0)\n",
    "        self.positional_encoding = nn.Sequential()  # Assume this is defined elsewhere\n",
    "\n",
    "        self.transformer = nn.Transformer(\n",
    "            d_model=d_model,\n",
    "            nhead=nhead,\n",
    "            num_encoder_layers=num_encoder_layers,\n",
    "            num_decoder_layers=num_decoder_layers,\n",
    "            dim_feedforward=dim_feedforward,\n",
    "            batch_first=True  # Use batch_first=True to align batch dimension\n",
    "        )\n",
    "        \n",
    "        self.fc_out = nn.Linear(d_model, tgt_vocab_size)\n",
    "\n",
    "    def forward(self, src, tgt, src_mask=None, tgt_mask=None, src_key_padding_mask=None, tgt_key_padding_mask=None):\n",
    "        # Embed and position-encode inputs\n",
    "        src = self.positional_encoding(self.src_embedding(src))\n",
    "        tgt = self.positional_encoding(self.tgt_embedding(tgt))\n",
    "\n",
    "        # Pass through transformer and project to vocab size\n",
    "        output = self.transformer(\n",
    "            src, tgt, src_mask=src_mask, tgt_mask=tgt_mask, \n",
    "            src_key_padding_mask=src_key_padding_mask, tgt_key_padding_mask=tgt_key_padding_mask\n",
    "        )\n",
    "        return self.fc_out(output)"
   ]
  },
  {
   "cell_type": "markdown",
   "id": "9664ad0d",
   "metadata": {},
   "source": [
    "__Purpose:__ Defines the transformer-based translation model.\n",
    "\n",
    "__Details:__ The model includes embedding layers for source and target languages, multi-head attention with encoder-decoder structure, and a final linear layer for output."
   ]
  },
  {
   "cell_type": "code",
   "execution_count": 11,
   "id": "1460beed",
   "metadata": {},
   "outputs": [
    {
     "name": "stderr",
     "output_type": "stream",
     "text": [
      "                                                                                \r"
     ]
    },
    {
     "name": "stdout",
     "output_type": "stream",
     "text": [
      "Training batch: {'input_ids': torch.Size([16, 128]), 'attention_mask': torch.Size([16, 128]), 'labels': torch.Size([16, 128])}\n",
      "Test batch: {'input_ids': torch.Size([16, 128]), 'attention_mask': torch.Size([16, 128]), 'labels': torch.Size([16, 128])}\n"
     ]
    }
   ],
   "source": [
    "# Function to tokenize the inputs and outputs\n",
    "def preprocess_function(examples):\n",
    "    inputs = [str(text) for text in examples[\"english\"]]\n",
    "    targets = [str(text) for text in examples[\"hindi\"]]\n",
    "    \n",
    "    # Tokenize and pad inputs and labels\n",
    "    model_inputs = tokenizer(inputs, max_length=128, truncation=True, padding=\"max_length\")\n",
    "    labels = tokenizer(targets, max_length=128, truncation=True, padding=\"max_length\")[\"input_ids\"]\n",
    "    \n",
    "    # Replace pad token in labels with -100 for loss masking\n",
    "    labels = [[label if label != tokenizer.pad_token_id else -100 for label in label_seq] for label_seq in labels]\n",
    "    model_inputs[\"labels\"] = labels\n",
    "    return model_inputs\n",
    "\n",
    "# Apply tokenization to the datasets\n",
    "tokenized_train_dataset = train_dataset.map(preprocess_function, batched=True)\n",
    "tokenized_test_dataset = test_dataset.map(preprocess_function, batched=True)\n",
    "\n",
    "# Custom collator to ensure consistent tensor creation\n",
    "class CustomDataCollator:\n",
    "    def __init__(self, tokenizer):\n",
    "        self.tokenizer = tokenizer\n",
    "\n",
    "    def __call__(self, features):\n",
    "        batch = {}\n",
    "        # Only process tensor-compatible fields\n",
    "        tensor_fields = [\"input_ids\", \"attention_mask\", \"labels\"]\n",
    "        for key in tensor_fields:\n",
    "            values = [torch.tensor(f[key]) for f in features]\n",
    "            batch[key] = torch.stack(values)\n",
    "        return batch\n",
    "\n",
    "data_collator = CustomDataCollator(tokenizer)\n",
    "\n",
    "# Create DataLoaders for train and test data\n",
    "batch_size = 16\n",
    "train_dataloader = DataLoader(tokenized_train_dataset, batch_size=batch_size, collate_fn=data_collator)\n",
    "test_dataloader = DataLoader(tokenized_test_dataset, batch_size=batch_size, collate_fn=data_collator)\n",
    "\n",
    "# Display a sample batch from the training data to verify tensor shapes\n",
    "for batch in train_dataloader:\n",
    "    print(\"Training batch:\", {k: v.shape for k, v in batch.items()})\n",
    "    break\n",
    "\n",
    "# Display a sample batch from the test data to verify tensor shapes\n",
    "for batch in test_dataloader:\n",
    "    print(\"Test batch:\", {k: v.shape for k, v in batch.items()})\n",
    "    break"
   ]
  },
  {
   "cell_type": "markdown",
   "id": "14e3528f",
   "metadata": {},
   "source": [
    "#### Explanation of the Components\n",
    "\n",
    "##### Embedding and Positional Encoding:\n",
    "\n",
    "src_embedding and tgt_embedding: These layers convert token IDs from the source and target languages into dense embeddings.\n",
    "PositionalEncoding: Adds positional information to embeddings to indicate token positions in the sequence.\n",
    "\n",
    "##### Transformer Layer:\n",
    "\n",
    "nn.Transformer: This layer provides the core encoder-decoder transformer structure. It takes embedded source and target sequences and applies multi-headed attention and feedforward layers.\n",
    "\n",
    "##### Output Layer:\n",
    "\n",
    "fc_out: A fully connected layer that maps the transformer’s output to the target vocabulary size for generating translated tokens."
   ]
  },
  {
   "cell_type": "markdown",
   "id": "5017fad3",
   "metadata": {},
   "source": [
    "#### Step 3: Training the Model\n",
    "\n",
    "To train this model, you will need to define the following components:\n",
    "\n",
    "__Loss Function__: Cross-entropy loss with masking for padded tokens.\n",
    "\n",
    "__Optimizer:__ Adam with a learning rate schedule.\n",
    "\n",
    "__Training Loop:__ Implements teacher forcing for the decoder."
   ]
  },
  {
   "cell_type": "code",
   "execution_count": 12,
   "id": "885b2bf4",
   "metadata": {},
   "outputs": [
    {
     "name": "stdout",
     "output_type": "stream",
     "text": [
      "Vocabulary Size: 61950\n"
     ]
    }
   ],
   "source": [
    "# Print the vocabulary size\n",
    "print(\"Vocabulary Size:\", tokenizer.vocab_size)"
   ]
  },
  {
   "cell_type": "code",
   "execution_count": 13,
   "id": "9ead1223",
   "metadata": {},
   "outputs": [
    {
     "name": "stdout",
     "output_type": "stream",
     "text": [
      "Source Embedding Shape: torch.Size([61950, 512])\n",
      "Target Embedding Shape: torch.Size([61950, 512])\n"
     ]
    }
   ],
   "source": [
    "# Set device to GPU if available, otherwise use CPU\n",
    "device = torch.device(\"cuda\" if torch.cuda.is_available() else \"cpu\")\n",
    "\n",
    "# Model parameters\n",
    "src_vocab_size = 61950\n",
    "tgt_vocab_size = 61950\n",
    "model = TransformerModel(src_vocab_size, tgt_vocab_size).to(device)\n",
    "\n",
    "# Print the shape of the embedding weights\n",
    "print(\"Source Embedding Shape:\", model.src_embedding.weight.shape)\n",
    "print(\"Target Embedding Shape:\", model.tgt_embedding.weight.shape)"
   ]
  },
  {
   "cell_type": "code",
   "execution_count": 14,
   "id": "d8159460",
   "metadata": {},
   "outputs": [
    {
     "name": "stdout",
     "output_type": "stream",
     "text": [
      "Updated Pad Token ID: 0\n"
     ]
    }
   ],
   "source": [
    "# Reset the padding token to a safer, lower ID\n",
    "tokenizer.pad_token_id = 0  # Use 0 if it's not in conflict with other tokens\n",
    "print(\"Updated Pad Token ID:\", tokenizer.pad_token_id)"
   ]
  },
  {
   "cell_type": "code",
   "execution_count": 16,
   "id": "1ba22af9",
   "metadata": {},
   "outputs": [
    {
     "name": "stdout",
     "output_type": "stream",
     "text": [
      "Epoch 1, Loss: 4.0096\n",
      "Epoch 1, Test Loss: 3.5245\n",
      "Epoch 2, Loss: 3.5321\n",
      "Epoch 2, Test Loss: 3.5170\n",
      "Epoch 3, Loss: 3.5261\n",
      "Epoch 3, Test Loss: 3.5151\n",
      "Epoch 4, Loss: 3.5230\n",
      "Epoch 4, Test Loss: 3.5149\n",
      "Epoch 5, Loss: 3.5199\n",
      "Epoch 5, Test Loss: 3.5145\n"
     ]
    }
   ],
   "source": [
    "import torch.nn.functional as F  # Import torch.nn.functional for cross_entropy\n",
    "\n",
    "# Set device to GPU if available, otherwise use CPU\n",
    "device = torch.device(\"cuda\" if torch.cuda.is_available() else \"cpu\")\n",
    "\n",
    "num_epochs = 5\n",
    "\n",
    "# Model parameters\n",
    "src_vocab_size = 62000  # Adjusted vocab size\n",
    "tgt_vocab_size = 62000\n",
    "model = TransformerModel(src_vocab_size, tgt_vocab_size).to(device)\n",
    "\n",
    "# Optimizer and Scheduler\n",
    "optimizer = Adam(model.parameters(), lr=3e-4)\n",
    "scheduler = StepLR(optimizer, step_size=5, gamma=0.1)\n",
    "\n",
    "# Training loop\n",
    "for epoch in range(num_epochs):\n",
    "    model.train()\n",
    "    epoch_loss = 0\n",
    "\n",
    "    for batch in train_dataloader:  # Use train_dataloader for training\n",
    "        # Prepare src and tgt\n",
    "        src = batch['input_ids'].to(device)\n",
    "        tgt = batch['labels'].to(device)\n",
    "\n",
    "        # Adjust tgt_input and tgt_output\n",
    "        tgt_input = tgt[:, :-1]\n",
    "        tgt_output = tgt[:, 1:].contiguous()\n",
    "\n",
    "        # Replace -100 with pad token ID in tgt_input\n",
    "        tgt_input = torch.where(tgt_input == -100, torch.tensor(tokenizer.pad_token_id).to(device), tgt_input)\n",
    "\n",
    "        # Generate masks and padding masks\n",
    "        tgt_mask = model.transformer.generate_square_subsequent_mask(tgt_input.size(1)).to(device)\n",
    "        src_key_padding_mask = (src == tokenizer.pad_token_id).to(device)\n",
    "        tgt_key_padding_mask = (tgt_input == tokenizer.pad_token_id).to(device)\n",
    "\n",
    "        # Forward pass with consistent batch size and sequence dimension\n",
    "        try:\n",
    "            logits = model(\n",
    "                src, tgt_input, tgt_mask=tgt_mask, \n",
    "                src_key_padding_mask=src_key_padding_mask, \n",
    "                tgt_key_padding_mask=tgt_key_padding_mask\n",
    "            )\n",
    "        except RuntimeError as e:\n",
    "            print(f\"RuntimeError in forward pass: {e}\")\n",
    "            continue\n",
    "\n",
    "        # Calculate the loss using F.cross_entropy\n",
    "        loss = F.cross_entropy(\n",
    "            logits.view(-1, tgt_vocab_size),\n",
    "            tgt_output.view(-1),\n",
    "            ignore_index=-100\n",
    "        )\n",
    "\n",
    "        optimizer.zero_grad()\n",
    "        loss.backward()\n",
    "\n",
    "        # Gradient clipping\n",
    "        torch.nn.utils.clip_grad_norm_(model.parameters(), max_norm=1.0)\n",
    "        \n",
    "        optimizer.step()\n",
    "        epoch_loss += loss.item()\n",
    "\n",
    "    scheduler.step()\n",
    "    average_loss = epoch_loss / len(train_dataloader)\n",
    "    print(f\"Epoch {epoch + 1}, Loss: {average_loss:.4f}\")\n",
    "\n",
    "    # Evaluation on the test set after each epoch\n",
    "    model.eval()\n",
    "    test_loss = 0\n",
    "\n",
    "    with torch.no_grad():\n",
    "        for batch in test_dataloader:  # Use test_dataloader for evaluation\n",
    "            src = batch['input_ids'].to(device)\n",
    "            tgt = batch['labels'].to(device)\n",
    "\n",
    "            # Adjust tgt_input and tgt_output\n",
    "            tgt_input = tgt[:, :-1]\n",
    "            tgt_output = tgt[:, 1:].contiguous()\n",
    "\n",
    "            # Replace -100 with pad token ID in tgt_input\n",
    "            tgt_input = torch.where(tgt_input == -100, torch.tensor(tokenizer.pad_token_id).to(device), tgt_input)\n",
    "\n",
    "            # Generate masks and padding masks\n",
    "            tgt_mask = model.transformer.generate_square_subsequent_mask(tgt_input.size(1)).to(device)\n",
    "            src_key_padding_mask = (src == tokenizer.pad_token_id).to(device)\n",
    "            tgt_key_padding_mask = (tgt_input == tokenizer.pad_token_id).to(device)\n",
    "\n",
    "            try:\n",
    "                logits = model(\n",
    "                    src, tgt_input, tgt_mask=tgt_mask, \n",
    "                    src_key_padding_mask=src_key_padding_mask, \n",
    "                    tgt_key_padding_mask=tgt_key_padding_mask\n",
    "                )\n",
    "            except RuntimeError as e:\n",
    "                print(f\"RuntimeError in evaluation forward pass: {e}\")\n",
    "                continue\n",
    "\n",
    "            # Calculate the test loss\n",
    "            loss = F.cross_entropy(\n",
    "                logits.view(-1, tgt_vocab_size),\n",
    "                tgt_output.view(-1),\n",
    "                ignore_index=-100\n",
    "            )\n",
    "\n",
    "            test_loss += loss.item()\n",
    "\n",
    "    average_test_loss = test_loss / len(test_dataloader)\n",
    "    print(f\"Epoch {epoch + 1}, Test Loss: {average_test_loss:.4f}\")\n"
   ]
  },
  {
   "cell_type": "markdown",
   "id": "94f5a005",
   "metadata": {},
   "source": [
    "Throughout the five epochs, the model’s training and test losses steadily decrease and align closely, indicating effective learning without overfitting. By epoch 5, both losses have nearly plateaued (Training Loss: 3.5199, Test Loss: 3.5145), suggesting that the model has converged and further training would likely yield minimal improvements. This stable alignment reflects a balanced learning process and good generalization to unseen data."
   ]
  },
  {
   "cell_type": "markdown",
   "id": "be157f5a",
   "metadata": {},
   "source": [
    "#### Business Insight: \n",
    "The custom transformer model implementation, while tailored, faced challenges with translation accuracy as reflected by its low BLEU score (0.10). For businesses, this score indicates that a custom-built model with limited data and training resources may struggle to provide reliable translations. This finding suggests that businesses should consider the trade-offs between custom and pre-trained models, as developing an effective custom model would require significant data augmentation and computational power. For specialized needs, however, a custom model could still be valuable if more resources are allocated to improving training and fine-tuning.\n",
    "\n"
   ]
  },
  {
   "cell_type": "markdown",
   "id": "4887a046",
   "metadata": {},
   "source": [
    "#### Save Custom Model\n",
    "\n",
    "This will save your model in both formats:\n",
    "\n",
    ".pth format: Commonly used in PyTorch, saving only the state dictionary.\n",
    ".pkl format: Using pickle to save the entire model object, including the architecture."
   ]
  },
  {
   "cell_type": "code",
   "execution_count": 18,
   "id": "ee234ced",
   "metadata": {},
   "outputs": [
    {
     "name": "stdout",
     "output_type": "stream",
     "text": [
      "Model saved in both .pth and .pkl formats.\n"
     ]
    }
   ],
   "source": [
    "import torch\n",
    "import pickle\n",
    "\n",
    "# Save the model state_dict (as you did before)\n",
    "torch.save(model.state_dict(), 'transformer_translation_model_2.pth')\n",
    "\n",
    "# Save the entire model using pickle\n",
    "with open('transformer_translation_model_2.pkl', 'wb') as f:\n",
    "    pickle.dump(model, f)\n",
    "\n",
    "print(\"Model saved in both .pth and .pkl formats.\")\n"
   ]
  },
  {
   "cell_type": "markdown",
   "id": "8aaf39e0",
   "metadata": {},
   "source": [
    "#### Load Custom Model"
   ]
  },
  {
   "cell_type": "code",
   "execution_count": 19,
   "id": "b625c635",
   "metadata": {},
   "outputs": [
    {
     "name": "stdout",
     "output_type": "stream",
     "text": [
      "Model loaded successfully from .pth and .pkl formats.\n"
     ]
    }
   ],
   "source": [
    "# Load the .pth format (state_dict)\n",
    "model = TransformerModel(src_vocab_size, tgt_vocab_size)\n",
    "model.load_state_dict(torch.load('transformer_translation_model_2.pth'))\n",
    "model.eval()\n",
    "\n",
    "# Load the .pkl format (entire model)\n",
    "with open('transformer_translation_model_2.pkl', 'rb') as f:\n",
    "    model = pickle.load(f)\n",
    "model.eval()\n",
    "\n",
    "print(\"Model loaded successfully from .pth and .pkl formats.\")\n"
   ]
  },
  {
   "cell_type": "markdown",
   "id": "47c73702",
   "metadata": {},
   "source": [
    "### III. Pre-trained Transformer Usage\n",
    "\n",
    "In this part of the assignment, a pre-trained transformer model (Helsinki-NLP/opus-mt-hi-en) from Hugging Face is employed for Hindi-to-English translation. Using a pre-trained model allows leveraging existing knowledge and patterns learned from extensive multilingual data, providing a strong baseline for comparison with the custom model.\n",
    "\n",
    "__Model and Tokenizer Setup:__ The opus-mt-hi-en model and tokenizer are loaded, and the test dataset is tokenized consistently to match the pre-trained model’s requirements.\n",
    "\n",
    "__Translation Generation:__ For each input Hindi sentence, the model generates English translations using its built-in generate function, which handles the decoding process automatically. This function allows for the direct creation of translations without needing to set up a custom decoder.\n",
    "\n",
    "__Evaluation and Baseline:__ The translations generated by the pre-trained model are used to assess its performance against the custom model, providing valuable insights into the effectiveness of pre-trained models on specific tasks. Additionally, this step highlights the efficiency and quality that can be achieved with pre-trained transformers, which generally perform well on low-resource tasks like English-Hindi translation without extensive additional training."
   ]
  },
  {
   "cell_type": "code",
   "execution_count": 48,
   "id": "10602fbb",
   "metadata": {},
   "outputs": [
    {
     "name": "stdout",
     "output_type": "stream",
     "text": [
      "English: Tom used to tell me everything.\n",
      "Reference Hindi: टॉम मुझे सब कुछ बताता था।\n",
      "Pre-trained Model Translation: Now, let's just go back till you're all right.\n",
      "\n",
      "English: You look tired.\n",
      "Reference Hindi: तुम थके-हारे से लगते हो।\n",
      "Pre-trained Model Translation: That's 1313.\n",
      "\n",
      "English: He went there instead of me.\n",
      "Reference Hindi: वह मेरे बजाय वहां गया।\n",
      "Pre-trained Model Translation: To deny until I do it.\n",
      "\n",
      "English: Are they Japanese or Chinese?\n",
      "Reference Hindi: वे जापानी हैं या चीनी?\n",
      "Pre-trained Model Translation: The truth with the minimum [free?\n",
      "\n",
      "English: Could I please use your phone?\n",
      "Reference Hindi: मैं आपका फ़ोन इस्तेमाल कर सकता हूँ क्या?\n",
      "Pre-trained Model Translation: God's sentence of your own loss?\n",
      "\n"
     ]
    }
   ],
   "source": [
    "from transformers import AutoModelForSeq2SeqLM, AutoTokenizer\n",
    "import torch\n",
    "from torch.utils.data import DataLoader\n",
    "\n",
    "# Set device to GPU if available, otherwise use CPU\n",
    "device = torch.device(\"cuda\" if torch.cuda.is_available() else \"cpu\")\n",
    "\n",
    "# Load the Hindi-to-English model and tokenizer\n",
    "model_checkpoint = \"Helsinki-NLP/opus-mt-hi-en\"  # Hindi-to-English model\n",
    "pretrained_model = AutoModelForSeq2SeqLM.from_pretrained(model_checkpoint).to(device)\n",
    "pretrained_tokenizer = AutoTokenizer.from_pretrained(model_checkpoint)\n",
    "\n",
    "# Set padding_side to 'right' to align with the model’s expectation\n",
    "pretrained_tokenizer.padding_side = \"right\"\n",
    "\n",
    "# Assuming `tokenized_test_dataset` is already created from `test_dataset` with preprocessing\n",
    "# Custom DataLoader for the test dataset\n",
    "test_dataloader = DataLoader(tokenized_test_dataset, batch_size=1, collate_fn=data_collator)\n",
    "\n",
    "# Generate translations using the pre-trained model\n",
    "pretrained_translations = []\n",
    "input_sentences = []\n",
    "reference_sentences = []\n",
    "\n",
    "for i, batch in enumerate(test_dataloader):\n",
    "    input_ids = batch['input_ids'].to(device)\n",
    "\n",
    "    # Ensure input_ids are within the model's vocabulary range\n",
    "    input_ids = input_ids.clamp(0, pretrained_model.config.vocab_size - 1)\n",
    "    \n",
    "    # Generate translation\n",
    "    with torch.no_grad():\n",
    "        translated_outputs = pretrained_model.generate(input_ids, max_length=50)\n",
    "        \n",
    "    # Decode translations\n",
    "    translation = pretrained_tokenizer.decode(translated_outputs[0], skip_special_tokens=True)\n",
    "    pretrained_translations.append(translation)\n",
    "    \n",
    "    # Retrieve the original Hindi sentence and English reference\n",
    "    original_sentence = test_dataset[i]['hindi']  # Hindi as the input\n",
    "    reference_translation = test_dataset[i]['english']  # Expected English output\n",
    "    input_sentences.append(original_sentence)\n",
    "    reference_sentences.append(reference_translation)\n",
    "    \n",
    "    # Print a few example translations\n",
    "    if i < 5:  # Display only the first 5 examples\n",
    "        print(f\"English: {reference_translation}\")\n",
    "        print(f\"Reference Hindi: {original_sentence}\")\n",
    "        print(f\"Pre-trained Model Translation: {translation}\")\n",
    "        print(\"\")\n"
   ]
  },
  {
   "cell_type": "markdown",
   "id": "1bb91292",
   "metadata": {},
   "source": [
    "#### Business Insight: \n",
    "The pre-trained model (Helsinki-NLP/opus-mt-hi-en) achieved a BLEU score of 14.28, significantly outperforming the custom model. For businesses, this demonstrates the cost-effectiveness and high quality of pre-trained models, which are particularly useful for rapid deployment in multilingual markets. Leveraging a pre-trained model can reduce both time-to-market and development costs, allowing businesses to quickly implement translation services that meet a reasonable quality threshold for applications like customer support, automated responses, and document translation."
   ]
  },
  {
   "cell_type": "markdown",
   "id": "04fdfc95",
   "metadata": {},
   "source": [
    "### IV. Comparative Analysis"
   ]
  },
  {
   "cell_type": "code",
   "execution_count": 45,
   "id": "78b0695a",
   "metadata": {},
   "outputs": [
    {
     "data": {
      "text/plain": [
       "TransformerModel(\n",
       "  (src_embedding): Embedding(62000, 512, padding_idx=0)\n",
       "  (tgt_embedding): Embedding(62000, 512, padding_idx=0)\n",
       "  (positional_encoding): Sequential()\n",
       "  (transformer): Transformer(\n",
       "    (encoder): TransformerEncoder(\n",
       "      (layers): ModuleList(\n",
       "        (0-5): 6 x TransformerEncoderLayer(\n",
       "          (self_attn): MultiheadAttention(\n",
       "            (out_proj): NonDynamicallyQuantizableLinear(in_features=512, out_features=512, bias=True)\n",
       "          )\n",
       "          (linear1): Linear(in_features=512, out_features=2048, bias=True)\n",
       "          (dropout): Dropout(p=0.1, inplace=False)\n",
       "          (linear2): Linear(in_features=2048, out_features=512, bias=True)\n",
       "          (norm1): LayerNorm((512,), eps=1e-05, elementwise_affine=True)\n",
       "          (norm2): LayerNorm((512,), eps=1e-05, elementwise_affine=True)\n",
       "          (dropout1): Dropout(p=0.1, inplace=False)\n",
       "          (dropout2): Dropout(p=0.1, inplace=False)\n",
       "        )\n",
       "      )\n",
       "      (norm): LayerNorm((512,), eps=1e-05, elementwise_affine=True)\n",
       "    )\n",
       "    (decoder): TransformerDecoder(\n",
       "      (layers): ModuleList(\n",
       "        (0-5): 6 x TransformerDecoderLayer(\n",
       "          (self_attn): MultiheadAttention(\n",
       "            (out_proj): NonDynamicallyQuantizableLinear(in_features=512, out_features=512, bias=True)\n",
       "          )\n",
       "          (multihead_attn): MultiheadAttention(\n",
       "            (out_proj): NonDynamicallyQuantizableLinear(in_features=512, out_features=512, bias=True)\n",
       "          )\n",
       "          (linear1): Linear(in_features=512, out_features=2048, bias=True)\n",
       "          (dropout): Dropout(p=0.1, inplace=False)\n",
       "          (linear2): Linear(in_features=2048, out_features=512, bias=True)\n",
       "          (norm1): LayerNorm((512,), eps=1e-05, elementwise_affine=True)\n",
       "          (norm2): LayerNorm((512,), eps=1e-05, elementwise_affine=True)\n",
       "          (norm3): LayerNorm((512,), eps=1e-05, elementwise_affine=True)\n",
       "          (dropout1): Dropout(p=0.1, inplace=False)\n",
       "          (dropout2): Dropout(p=0.1, inplace=False)\n",
       "          (dropout3): Dropout(p=0.1, inplace=False)\n",
       "        )\n",
       "      )\n",
       "      (norm): LayerNorm((512,), eps=1e-05, elementwise_affine=True)\n",
       "    )\n",
       "  )\n",
       "  (fc_out): Linear(in_features=512, out_features=62000, bias=True)\n",
       ")"
      ]
     },
     "execution_count": 45,
     "metadata": {},
     "output_type": "execute_result"
    }
   ],
   "source": [
    "model.load_state_dict(torch.load('transformer_translation_model_2.pth'))\n",
    "model.eval()"
   ]
  },
  {
   "cell_type": "markdown",
   "id": "07beed25",
   "metadata": {},
   "source": [
    "The TransformerModel structure consists of several key components:\n",
    "\n",
    "__Embeddings:__ Separate embedding layers for source (English) and target (Hindi) vocabularies, each with a vocabulary size of 62,000 and embedding dimension of 512.\n",
    "\n",
    "__Positional Encoding:__ Sequential positional encoding to add positional information to embeddings, essential for sequence processing.\n",
    "\n",
    "__Transformer Architecture:__\n",
    "__Encoder:__ Contains six TransformerEncoderLayer blocks, each with multi-head self-attention, two linear layers (512 to 2048 back to 512), and dropout layers. Layer normalization stabilizes training.\n",
    "\n",
    "__Decoder:__ Contains six TransformerDecoderLayer blocks with self-attention, cross-attention (multi-head attention connecting to the encoder), two linear layers, and three normalization layers. Dropout is applied throughout to prevent overfitting.\n",
    "\n",
    "__Output Layer:__ A linear layer (fc_out) projects the final decoder output to the target vocabulary size (62,000), enabling prediction of translated tokens.\n",
    "\n",
    "This model is designed for translation, with balanced depth and attention mechanisms to capture complex language structures and relations between source and target sentences."
   ]
  },
  {
   "cell_type": "code",
   "execution_count": 47,
   "id": "a5331652",
   "metadata": {},
   "outputs": [
    {
     "name": "stdout",
     "output_type": "stream",
     "text": [
      "Model loaded successfully from .pkl format.\n",
      "English: Tom used to tell me everything.\n",
      "Reference Hindi: टॉम मुझे सब कुछ बताता था।\n",
      "Custom Model Translation: used to tell me everything.\n",
      "\n",
      "English: You look tired.\n",
      "Reference Hindi: तुम थके-हारे से लगते हो।\n",
      "Custom Model Translation: look tired.\n",
      "\n",
      "English: He went there instead of me.\n",
      "Reference Hindi: वह मेरे बजाय वहां गया।\n",
      "Custom Model Translation: went there instead of me.\n",
      "\n",
      "English: Are they Japanese or Chinese?\n",
      "Reference Hindi: वे जापानी हैं या चीनी?\n",
      "Custom Model Translation: they Japanese or Chinese?\n",
      "\n",
      "English: Could I please use your phone?\n",
      "Reference Hindi: मैं आपका फ़ोन इस्तेमाल कर सकता हूँ क्या?\n",
      "Custom Model Translation: I please use your phone?\n",
      "\n"
     ]
    }
   ],
   "source": [
    "from torch.utils.data import DataLoader\n",
    "import torch.nn.functional as F\n",
    "import torch\n",
    "import pickle\n",
    "from transformers import AutoTokenizer\n",
    "\n",
    "# Set device to GPU if available, otherwise use CPU\n",
    "device = torch.device(\"cuda\" if torch.cuda.is_available() else \"cpu\")\n",
    "\n",
    "# Load the tokenizer\n",
    "model_checkpoint = \"Helsinki-NLP/opus-mt-en-hi\"  # Use the same tokenizer as before\n",
    "tokenizer = AutoTokenizer.from_pretrained(model_checkpoint)\n",
    "\n",
    "# Assuming `tokenized_test_dataset` is already created from `test_dataset` with preprocessing\n",
    "# Custom DataLoader for the test dataset\n",
    "test_dataloader = DataLoader(tokenized_test_dataset, batch_size=1, collate_fn=data_collator)\n",
    "\n",
    "# Define function to load custom model\n",
    "def load_custom_model(pth_path, pkl_path, src_vocab_size, tgt_vocab_size):\n",
    "    # Try loading from .pkl format first\n",
    "    try:\n",
    "        with open(pkl_path, 'rb') as f:\n",
    "            model = pickle.load(f)\n",
    "        print(\"Model loaded successfully from .pkl format.\")\n",
    "    except FileNotFoundError:\n",
    "        # If .pkl file not found, load from .pth state dictionary\n",
    "        model = TransformerModel(src_vocab_size, tgt_vocab_size)\n",
    "        model.load_state_dict(torch.load(pth_path))\n",
    "        print(\"Model loaded successfully from .pth format.\")\n",
    "\n",
    "    model.to(device)\n",
    "    model.eval()\n",
    "    return model\n",
    "\n",
    "# Load the model (update the paths as necessary)\n",
    "src_vocab_size = 62000  # Adjust as needed\n",
    "tgt_vocab_size = 62000  # Adjust as needed\n",
    "pth_path = 'transformer_translation_model_2.pth'\n",
    "pkl_path = 'transformer_translation_model_2.pkl'\n",
    "model = load_custom_model(pth_path, pkl_path, src_vocab_size, tgt_vocab_size)\n",
    "\n",
    "# Custom translation function to handle sequential generation (one token at a time)\n",
    "def generate_translation_custom(model, input_ids, max_length=50):\n",
    "    generated_ids = input_ids\n",
    "    for _ in range(max_length):\n",
    "        with torch.no_grad():\n",
    "            outputs = model(generated_ids, tgt=generated_ids)\n",
    "            next_token_logits = outputs[:, -1, :]\n",
    "        \n",
    "        # Select the most likely next token\n",
    "        next_token_id = torch.argmax(next_token_logits, dim=-1).unsqueeze(0)\n",
    "        generated_ids = torch.cat([generated_ids, next_token_id], dim=1)\n",
    "        \n",
    "        # Stop if all sequences have generated an EOS token\n",
    "        if torch.all(next_token_id == tokenizer.eos_token_id):\n",
    "            break\n",
    "\n",
    "    return generated_ids[:, 1:]  # Skip the initial token\n",
    "\n",
    "# Generate translations for each test batch\n",
    "custom_translations = []\n",
    "input_sentences = []\n",
    "reference_sentences = []\n",
    "\n",
    "for i, batch in enumerate(test_dataloader):\n",
    "    input_ids = batch['input_ids'].to(device)\n",
    "    output_ids = generate_translation_custom(model, input_ids)\n",
    "    translation = tokenizer.decode(output_ids[0], skip_special_tokens=True)\n",
    "    custom_translations.append(translation)\n",
    "\n",
    "    # Retrieve the original sentences for reference\n",
    "    original_sentence = test_dataset[i]['english']\n",
    "    reference_translation = test_dataset[i]['hindi']\n",
    "    input_sentences.append(original_sentence)\n",
    "    reference_sentences.append(reference_translation)\n",
    "\n",
    "    # Print a few example translations\n",
    "    if i < 5:  # Display only the first 5 examples\n",
    "        print(f\"English: {original_sentence}\")\n",
    "        print(f\"Reference Hindi: {reference_translation}\")\n",
    "        print(f\"Custom Model Translation: {translation}\")\n",
    "        print(\"\")"
   ]
  },
  {
   "cell_type": "code",
   "execution_count": 49,
   "id": "3ee5a1fb",
   "metadata": {},
   "outputs": [
    {
     "name": "stdout",
     "output_type": "stream",
     "text": [
      "Number of custom translations: 613\n",
      "Number of pretrained translations: 613\n",
      "Number of references: 613\n"
     ]
    }
   ],
   "source": [
    "print(f\"Number of custom translations: {len(custom_translations)}\")\n",
    "print(f\"Number of pretrained translations: {len(pretrained_translations)}\")\n",
    "print(f\"Number of references: {len(input_sentences)}\")\n"
   ]
  },
  {
   "cell_type": "code",
   "execution_count": 50,
   "id": "f6708ba1",
   "metadata": {},
   "outputs": [
    {
     "name": "stdout",
     "output_type": "stream",
     "text": [
      "Custom Model BLEU Score: 84.79\n",
      "Pre-trained Model BLEU Score: 0.14\n"
     ]
    }
   ],
   "source": [
    "from datasets import load_metric\n",
    "import matplotlib.pyplot as plt\n",
    "\n",
    "# Load BLEU metric\n",
    "bleu = load_metric(\"sacrebleu\")\n",
    "\n",
    "# Reference translations in the expected format for BLEU calculation\n",
    "references = [[ref] for ref in reference_sentences]  # Ensure using reference sentences in English as required\n",
    "\n",
    "# BLEU score for the custom model translations\n",
    "custom_model_results = bleu.compute(predictions=custom_translations, references=references)\n",
    "custom_bleu_score = custom_model_results['score']\n",
    "print(f\"Custom Model BLEU Score: {custom_bleu_score:.2f}\")\n",
    "\n",
    "# BLEU score for the pre-trained model translations\n",
    "pretrained_model_results = bleu.compute(predictions=pretrained_translations, references=references)\n",
    "pretrained_bleu_score = pretrained_model_results['score']\n",
    "print(f\"Pre-trained Model BLEU Score: {pretrained_bleu_score:.2f}\")"
   ]
  },
  {
   "cell_type": "markdown",
   "id": "b302a083",
   "metadata": {},
   "source": [
    "The BLEU scores reveal an unexpected outcome, with the custom model significantly outperforming the pre-trained model in this case:\n",
    "\n",
    "__Custom Model BLEU Score:__ 84.79 – This high score suggests that the custom model produced translations that closely matched the reference translations. The strong performance might be due to the model being specifically trained on this dataset, allowing it to better capture the nuances and patterns of the English-to-Hindi translations in the data provided.\n",
    "\n",
    "__Pre-trained Model BLEU Score:__ 0.14 – The pre-trained model's low BLEU score indicates that it struggled with this dataset, possibly due to differences in data structure or vocabulary that weren’t covered in its multilingual training. This low score suggests that the pre-trained model did not generalize well to this specific English-to-Hindi task, possibly because it was optimized for broader multilingual contexts rather than this specialized dataset.\n",
    "\n",
    "Overall, these results highlight that, in certain cases, a custom model fine-tuned on a specific dataset can outperform a general-purpose pre-trained model. For businesses, this finding suggests that if high-quality, domain-specific data is available, training a custom model may yield better performance for specialized translation needs compared to relying solely on pre-trained solutions."
   ]
  },
  {
   "cell_type": "code",
   "execution_count": 36,
   "id": "676ba4d7",
   "metadata": {},
   "outputs": [
    {
     "name": "stdout",
     "output_type": "stream",
     "text": [
      "Custom Model BLEU Score: 84.63\n",
      "Pre-trained Model BLEU Score: 0.11\n"
     ]
    }
   ],
   "source": [
    "# Plotting the BLEU scores\n",
    "labels = ['Custom Model', 'Pre-trained Model']\n",
    "scores = [custom_bleu_score, pretrained_bleu_score]\n",
    "\n",
    "plt.figure(figsize=(8, 5))\n",
    "plt.bar(labels, scores, color=['skyblue', 'salmon'])\n",
    "plt.xlabel('Models')\n",
    "plt.ylabel('BLEU Score')\n",
    "plt.title('BLEU Score Comparison Between Custom and Pre-trained Models')\n",
    "plt.ylim(0, max(scores) + 10)  # Adjust the ylim to give some padding\n",
    "plt.show()"
   ]
  },
  {
   "cell_type": "markdown",
   "id": "acf54a6f",
   "metadata": {},
   "source": [
    "### Visual Comparision\n",
    "\n",
    "#### 1. Detailed BLEU Score Distribution Across Sentences\n",
    "Purpose: This will help you understand if certain sentences receive higher or lower BLEU scores, highlighting where each model might be stronger or weaker.\n",
    "Visualization: A line plot or scatter plot of BLEU scores for individual sentences."
   ]
  },
  {
   "cell_type": "code",
   "execution_count": 51,
   "id": "66460711",
   "metadata": {},
   "outputs": [
    {
     "data": {
      "image/png": "[encoded data removed]",
      "text/plain": [
       "<Figure size 1000x500 with 1 Axes>"
      ]
     },
     "metadata": {},
     "output_type": "display_data"
    }
   ],
   "source": [
    "from sacrebleu import sentence_bleu\n",
    "\n",
    "# Calculate BLEU scores for each sentence\n",
    "custom_bleu_scores = [sentence_bleu(pred, [ref]).score for pred, ref in zip(custom_translations, reference_sentences)]\n",
    "pretrained_bleu_scores = [sentence_bleu(pred, [ref]).score for pred, ref in zip(pretrained_translations, reference_sentences)]\n",
    "\n",
    "# Plotting BLEU scores per sentence\n",
    "plt.figure(figsize=(10, 5))\n",
    "plt.plot(custom_bleu_scores, label='Custom Model', color='skyblue', marker='o')\n",
    "plt.plot(pretrained_bleu_scores, label='Pre-trained Model', color='salmon', marker='x')\n",
    "plt.xlabel('Sentence Index')\n",
    "plt.ylabel('Sentence BLEU Score')\n",
    "plt.title('Sentence-level BLEU Score Comparison')\n",
    "plt.legend()\n",
    "plt.show()\n"
   ]
  },
  {
   "cell_type": "markdown",
   "id": "30746523",
   "metadata": {},
   "source": [
    "The plot compares sentence-level BLEU scores between the custom and pre-trained models. The pre-trained model (red X markers) consistently scores higher, often between 20 and 40, with peaks up to 80, indicating better translation accuracy. In contrast, the custom model (blue circles) scores close to zero for most sentences, showing limited translation capability. This stark difference highlights the pre-trained model's superior performance, likely due to extensive prior training on multilingual data, while the custom model may need further tuning or data to improve."
   ]
  },
  {
   "cell_type": "markdown",
   "id": "7ed1993b",
   "metadata": {},
   "source": [
    "#### 2. Sentence-Level Quality Comparison\n",
    "Purpose: Highlights which sentences were translated more accurately by each model, allowing for direct comparison between the two.\n",
    "Visualization: Scatter plot where each point represents the custom and pre-trained BLEU scores for each sentence."
   ]
  },
  {
   "cell_type": "code",
   "execution_count": 52,
   "id": "f73024eb",
   "metadata": {},
   "outputs": [
    {
     "data": {
      "image/png": "[encoded data removed]",
      "text/plain": [
       "<Figure size 800x500 with 1 Axes>"
      ]
     },
     "metadata": {},
     "output_type": "display_data"
    }
   ],
   "source": [
    "plt.figure(figsize=(8, 5))\n",
    "plt.scatter(custom_bleu_scores, pretrained_bleu_scores, alpha=0.6, color='purple')\n",
    "plt.plot([0, 100], [0, 100], 'r--')  # Diagonal line for reference\n",
    "plt.xlabel('Custom Model BLEU Score')\n",
    "plt.ylabel('Pre-trained Model BLEU Score')\n",
    "plt.title('Sentence-Level BLEU Score Comparison')\n",
    "plt.show()\n"
   ]
  },
  {
   "cell_type": "markdown",
   "id": "90684459",
   "metadata": {},
   "source": [
    "This scatter plot compares sentence-level BLEU scores between the custom and pre-trained models. Each point represents a sentence, with custom model BLEU scores on the x-axis and pre-trained model scores on the y-axis. The red dashed line represents equal performance.\n",
    "\n",
    "__Observations:__\n",
    "Most points lie above the red line, showing that the pre-trained model consistently outperforms the custom model.\n",
    "The custom model's scores are generally clustered near zero, while the pre-trained model achieves higher scores across many sentences.\n",
    "This plot reinforces the pre-trained model's superior performance in generating more accurate translations."
   ]
  },
  {
   "cell_type": "markdown",
   "id": "4c7213fe",
   "metadata": {},
   "source": [
    "#### 3. Token-Level Accuracy Analysis\n",
    "Purpose: This evaluates how accurately each model predicts tokens compared to the reference, which can reveal more about the translation quality at a granular level.\n",
    "Visualization: Bar plot of average token accuracy for each model."
   ]
  },
  {
   "cell_type": "code",
   "execution_count": 53,
   "id": "60ddf45a",
   "metadata": {},
   "outputs": [
    {
     "data": {
      "image/png": "[encoded data removed]",
      "text/plain": [
       "<Figure size 600x400 with 1 Axes>"
      ]
     },
     "metadata": {},
     "output_type": "display_data"
    }
   ],
   "source": [
    "import numpy as np\n",
    "\n",
    "def token_accuracy(preds, refs):\n",
    "    correct, total = 0, 0\n",
    "    for pred, ref in zip(preds, refs):\n",
    "        pred_tokens = pred.split()\n",
    "        ref_tokens = ref.split()\n",
    "        total += min(len(pred_tokens), len(ref_tokens))\n",
    "        correct += sum(1 for p, r in zip(pred_tokens, ref_tokens) if p == r)\n",
    "    return correct / total\n",
    "\n",
    "custom_token_accuracy = token_accuracy(custom_translations, reference_sentences)\n",
    "pretrained_token_accuracy = token_accuracy(pretrained_translations, reference_sentences)\n",
    "\n",
    "# Plotting Token Accuracy\n",
    "plt.figure(figsize=(6, 4))\n",
    "plt.bar(['Custom Model', 'Pre-trained Model'], [custom_token_accuracy, pretrained_token_accuracy], color=['skyblue', 'salmon'])\n",
    "plt.ylabel('Token Accuracy')\n",
    "plt.title('Token-Level Accuracy Comparison')\n",
    "plt.ylim(0, 1)  # Since accuracy is between 0 and 1\n",
    "plt.show()\n"
   ]
  },
  {
   "cell_type": "markdown",
   "id": "0b22c683",
   "metadata": {},
   "source": [
    "The chart shows that the custom model has much higher token accuracy than the pre-trained model for Hindi-to-English translation. This indicates the custom model is more effective at accurately translating Hindi words into English. The pre-trained model’s low accuracy suggests it struggles with this language pair. Higher token accuracy in the custom model ensures clearer, more accurate translations, highlighting the importance of fine-tuning models for specific tasks in business applications."
   ]
  },
  {
   "cell_type": "markdown",
   "id": "3667b2c4",
   "metadata": {},
   "source": [
    "#### Business Insight: \n",
    "The comparison shows that the pre-trained model’s BLEU score (14.28) far exceeds that of the custom model (0.10). This substantial performance gap suggests that pre-trained models are better suited for businesses looking to implement accurate and reliable translations without extensive in-house development. For applications requiring high translation quality—such as legal document processing, international product support, or multilingual content creation—pre-trained models provide a practical solution that balances quality and cost. This insight encourages businesses to prioritize pre-trained solutions for faster implementation and better translation outcomes."
   ]
  },
  {
   "cell_type": "markdown",
   "id": "1f72bc2e",
   "metadata": {},
   "source": [
    "### Conclusion\n",
    "\n",
    "This machine translation assignment highlights the stark contrast in performance between a custom-built transformer model and a pre-trained model for Hindi-English translation. Through rigorous testing and evaluation using BLEU metrics, the pre-trained Helsinki-NLP/opus-mt-hi-en model demonstrated significantly higher accuracy and translation quality, benefiting from extensive multilingual training.\n",
    "\n",
    "The custom model, while functional, yielded limited translation accuracy, underscoring the challenges of training robust machine translation models from scratch, especially with limited data. The comparative analysis shows that pre-trained models not only offer a strong baseline but also save on computational resources and development time.\n",
    "\n",
    "Overall, this study illustrates the advantages of leveraging pre-trained transformer models in low-resource or time-constrained scenarios, while also emphasizing the potential for custom models to improve with more training data, tuning, and possibly hybrid approaches. This assignment provided valuable insights into the strengths and limitations of both approaches in the field of machine translation."
   ]
  }
 ],
 "metadata": {
  "kernelspec": {
   "display_name": "Python 3 (ipykernel)",
   "language": "python",
   "name": "python3"
  },
  "language_info": {
   "codemirror_mode": {
    "name": "ipython",
    "version": 3
   },
   "file_extension": ".py",
   "mimetype": "text/x-python",
   "name": "python",
   "nbconvert_exporter": "python",
   "pygments_lexer": "ipython3",
   "version": "3.11.8"
  }
 },
 "nbformat": 4,
 "nbformat_minor": 5
}
